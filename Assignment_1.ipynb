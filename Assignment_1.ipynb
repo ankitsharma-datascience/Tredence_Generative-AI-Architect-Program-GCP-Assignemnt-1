{
 "cells": [
  {
   "cell_type": "code",
   "execution_count": null,
   "id": "eba7ffab",
   "metadata": {},
   "outputs": [],
   "source": [
    "!python -m pip install langchain langchain-core langchain-community langchain-experimental --quiet\n",
    "!python -m pip install -U langchain-google-genai duckduckgo-search --quiet\n",
    "!python -m pip install -U ddgs\n",
    "!python -m pip install mlflow --quiet\n",
    "!python -m pip install spacy\n",
    "!python -m pip install textstat\n",
    "!python -m pip install python-dotenv --quiet\n",
    "!python -m  pip install \"langchain-experimental==0.0.29\""
   ]
  },
  {
   "cell_type": "code",
   "execution_count": null,
   "id": "51ba4b3c",
   "metadata": {},
   "outputs": [],
   "source": [
    "import mlflow\n",
    "mlflow.set_tracking_uri(\"file:./mlruns\")  # or your remote MLflow URI\n",
    "mlflow.set_experiment(\"Company Sentiment Pipeline\")"
   ]
  },
  {
   "cell_type": "code",
   "execution_count": null,
   "id": "5ff638a3",
   "metadata": {},
   "outputs": [],
   "source": [
    "from langchain_community.callbacks.mlflow_callback import MlflowCallbackHandler\n",
    "import mlflow\n",
    "\n",
    "# Configure MLflow\n",
    "mlflow.set_tracking_uri(\"file:./mlruns\")\n",
    "mlflow.set_experiment(\"Company Sentiment Pipeline\")\n",
    "\n",
    "# ✅ Correct new way — no extra args\n",
    "mlflow_callback = MlflowCallbackHandler(\n",
    "    tracking_uri=\"file:./mlruns\",\n",
    "    name=\"Company Sentiment Pipeline\"\n",
    ")\n",
    "\n",
    "callbacks = [mlflow_callback]\n"
   ]
  },
  {
   "cell_type": "code",
   "execution_count": null,
   "id": "3c267f8b",
   "metadata": {},
   "outputs": [],
   "source": [
    "#!python -m spacy download en_core_web_sm"
   ]
  },
  {
   "cell_type": "markdown",
   "id": "c3cf63ba",
   "metadata": {},
   "source": [
    "## Model & Parser Setup"
   ]
  },
  {
   "cell_type": "code",
   "execution_count": null,
   "id": "fab3ad7a",
   "metadata": {},
   "outputs": [],
   "source": [
    "from langchain.chat_models import init_chat_model\n",
    "#from langchain_core.output_parsers import StructuredOutputParser\n",
    "from langchain_core.output_parsers import StrOutputParser\n",
    "from langchain_core.prompts import ChatPromptTemplate\n",
    "#from langchain_core.pydantic_v1 import BaseModel, Field\n",
    "from pydantic import BaseModel ,Field\n",
    "from langchain_community.tools import DuckDuckGoSearchRun\n",
    "\n",
    "\n",
    "from dotenv import load_dotenv\n",
    "import os\n",
    "\n",
    "# Load environment variables from .env\n",
    "load_dotenv()\n",
    "\n",
    "# Retrieve the API key\n",
    "google_api_key = os.getenv(\"GOOGLE_API_KEY\")\n",
    "\n",
    "# Initialize model\n",
    "model_name = \"gemini-2.0-flash\"\n",
    "model = init_chat_model(model_name, model_provider=\"google_genai\",google_api_key=google_api_key)\n",
    "\n",
    "# Search tool\n",
    "news_tool = DuckDuckGoSearchRun()\n"
   ]
  },
  {
   "cell_type": "markdown",
   "id": "645c5919",
   "metadata": {},
   "source": [
    "## Step 2 — Get Stock Code"
   ]
  },
  {
   "cell_type": "code",
   "execution_count": null,
   "id": "adb55a8e",
   "metadata": {},
   "outputs": [],
   "source": [
    "from langchain_core.output_parsers import StrOutputParser\n",
    "\n",
    "symbol_prompt = ChatPromptTemplate([\n",
    "    (\"system\",\n",
    "     \"You are a financial assistant. Given a company name, return only its stock ticker symbol (like AAPL for Apple Inc). \"\n",
    "     \"If not public, return 'N/A'.\"),\n",
    "    (\"user\",\"{company_name}\")\n",
    "])\n",
    "\n",
    "symbol_chain = symbol_prompt | model | StrOutputParser()\n"
   ]
  },
  {
   "cell_type": "markdown",
   "id": "9a3be795",
   "metadata": {},
   "source": [
    "## Step 3 — Fetch Recent Company News"
   ]
  },
  {
   "cell_type": "code",
   "execution_count": null,
   "id": "10eaee9e",
   "metadata": {},
   "outputs": [],
   "source": [
    "search_query_prompt = ChatPromptTemplate([\n",
    "    (\"system\",\"Generate a short search query to get recent news about the company {company_name} ({stock_code}).\"),\n",
    "    (\"user\",\"Make the query concise and specific to company news only.\")\n",
    "])\n",
    "\n",
    "search_query_chain = search_query_prompt | model | StrOutputParser()\n"
   ]
  },
  {
   "cell_type": "markdown",
   "id": "13bfba0d",
   "metadata": {},
   "source": [
    "## Step 4 — Sentiment + Entity Analysis"
   ]
  },
  {
   "cell_type": "code",
   "execution_count": null,
   "id": "97a1d759",
   "metadata": {},
   "outputs": [],
   "source": [
    "class NewsSentiment(BaseModel):\n",
    "    company_name: str = Field(..., description=\"Company full name\")\n",
    "    stock_code: str = Field(..., description=\"Ticker symbol of the company\")\n",
    "    newsdesc: str = Field(..., description=\"Short summary of the news headlines/articles\")\n",
    "    sentiment: str = Field(..., description=\"Overall sentiment: Positive, Negative, or Neutral\")\n",
    "    people_names: list[str] = Field(default_factory=list, description=\"List of people mentioned\")\n",
    "    places_names: list[str] = Field(default_factory=list, description=\"List of places mentioned\")\n",
    "    other_companies_referred: list[str] = Field(default_factory=list, description=\"Other companies mentioned\")\n",
    "    related_industries: list[str] = Field(default_factory=list, description=\"Industries related to the news\")\n",
    "    market_implications: str = Field(..., description=\"Implications for the market/stock price\")\n",
    "    confidence_score: float = Field(..., description=\"Confidence score between 0.0 and 1.0\")\n",
    "\n",
    "output_parser = StrOutputParser(pydantic_object=NewsSentiment)\n"
   ]
  },
  {
   "cell_type": "code",
   "execution_count": null,
   "id": "c677c827",
   "metadata": {},
   "outputs": [],
   "source": [
    "analysis_prompt = ChatPromptTemplate([\n",
    "    (\"system\",\n",
    "     \"Analyze the given news text and produce a structured sentiment profile strictly as JSON in the requested schema.\"),\n",
    "    (\"user\",\n",
    "     \"Company: {company_name}\\n\"\n",
    "     \"Stock: {stock_code}\\n\"\n",
    "     \"News:\\n{news_text}\")\n",
    "])\n",
    "\n",
    "analysis_chain = analysis_prompt | model | output_parser\n"
   ]
  },
  {
   "cell_type": "markdown",
   "id": "15528753",
   "metadata": {},
   "source": [
    "## Step 5 — Combine Pipeline"
   ]
  },
  {
   "cell_type": "code",
   "execution_count": null,
   "id": "594f178e",
   "metadata": {},
   "outputs": [],
   "source": [
    "def run_company_sentiment(company_name: str):\n",
    "    # Step 1: get stock symbol\n",
    "    stock_code = symbol_chain.invoke({\"company_name\": company_name})\n",
    "    \n",
    "    # Step 2: create search query\n",
    "    query = search_query_chain.invoke({\"company_name\": company_name, \"stock_code\": stock_code})\n",
    "    \n",
    "    # Step 3: get news\n",
    "    news_results = news_tool.invoke(query)\n",
    "    \n",
    "    # Step 4: analyze\n",
    "    result = analysis_chain.invoke({\n",
    "        \"company_name\": company_name,\n",
    "        \"stock_code\": stock_code,\n",
    "        \"news_text\": news_results\n",
    "    })\n",
    "    \n",
    "    return result\n"
   ]
  },
  {
   "cell_type": "markdown",
   "id": "0092e9bb",
   "metadata": {},
   "source": [
    "## Test the Pipeline"
   ]
  },
  {
   "cell_type": "code",
   "execution_count": null,
   "id": "d9ee74ca",
   "metadata": {},
   "outputs": [],
   "source": [
    "company_name=\"Apple Inc\""
   ]
  },
  {
   "cell_type": "code",
   "execution_count": null,
   "id": "c1602f91",
   "metadata": {},
   "outputs": [],
   "source": [
    "# with mlflow.start_run(run_name=company_name):\n",
    "#     stock_code = symbol_chain.invoke({\"company_name\": company_name}, callbacks=callbacks)\n",
    "#     query = search_query_chain.invoke({\"company_name\": company_name, \"stock_code\": stock_code}, callbacks=callbacks)\n",
    "#     news_results = news_tool.invoke(query)\n",
    "#     result = analysis_chain.invoke({\n",
    "#         \"company_name\": company_name,\n",
    "#         \"stock_code\": stock_code,\n",
    "#         \"news_text\": news_results\n",
    "#     }, callbacks=callbacks)"
   ]
  },
  {
   "cell_type": "code",
   "execution_count": null,
   "id": "f96ce195",
   "metadata": {},
   "outputs": [],
   "source": [
    "#result = run_company_sentiment(\":contentReference[oaicite:3]{index=3}\")\n",
    "result = run_company_sentiment(company_name)\n",
    "print(result)"
   ]
  },
  {
   "cell_type": "code",
   "execution_count": null,
   "id": "0bb6c67b",
   "metadata": {},
   "outputs": [],
   "source": []
  },
  {
   "cell_type": "code",
   "execution_count": null,
   "id": "5a89972f",
   "metadata": {},
   "outputs": [],
   "source": []
  }
 ],
 "metadata": {
  "language_info": {
   "name": "python"
  }
 },
 "nbformat": 4,
 "nbformat_minor": 5
}
